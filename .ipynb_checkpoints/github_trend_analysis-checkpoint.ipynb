{
 "cells": [
  {
   "cell_type": "markdown",
   "id": "b202f4b9-f5ea-4f12-ad67-9bc41317874b",
   "metadata": {},
   "source": [
    "### Basic Environment Set Up and Check"
   ]
  },
  {
   "cell_type": "code",
   "execution_count": 13,
   "id": "5fb43097-1c0c-4d7c-a09d-26bf4fb478b1",
   "metadata": {},
   "outputs": [
    {
     "name": "stdout",
     "output_type": "stream",
     "text": [
      ".env file created successfully!\n"
     ]
    }
   ],
   "source": [
    "with open(\".env\", \"w\") as f:\n",
    "    f.write(\"GITHUB_TOKEN=real_token\\n\")  # Replace with your real token\n",
    "print(\".env file created successfully!\")"
   ]
  },
  {
   "cell_type": "code",
   "execution_count": 14,
   "id": "fe0c9ae9-6aff-48eb-a087-c77e081d8281",
   "metadata": {},
   "outputs": [
    {
     "name": "stdout",
     "output_type": "stream",
     "text": [
      ".env file exists: True\n"
     ]
    }
   ],
   "source": [
    "# Check if .env Exists\n",
    "import os\n",
    "print(\".env file exists:\", os.path.exists(\".env\"))"
   ]
  },
  {
   "cell_type": "code",
   "execution_count": 15,
   "id": "7ef03bb3-5a6a-48b4-bddf-a6ca4e0b355d",
   "metadata": {},
   "outputs": [
    {
     "name": "stdout",
     "output_type": "stream",
     "text": [
      "['.DS_Store', 'github-trend-env', 'LICENSE', '.gitignore', '.env', '.ipynb_checkpoints', '.git', 'github_trend_analysis.ipynb']\n"
     ]
    }
   ],
   "source": [
    "print(os.listdir())  # Lists all files in the current directory"
   ]
  },
  {
   "cell_type": "code",
   "execution_count": 16,
   "id": "970a3817-e418-4309-9066-b30b05c978ec",
   "metadata": {},
   "outputs": [
    {
     "name": "stdout",
     "output_type": "stream",
     "text": [
      "GitHub Token loaded successfully!\n"
     ]
    }
   ],
   "source": [
    "import os \n",
    "from dotenv import load_dotenv\n",
    "\n",
    "# Load environment variables from .env file\n",
    "load_dotenv()\n",
    "\n",
    "# Retrieve the GitHub Token\n",
    "github_token = os.getenv(\"GITHUB_TOKEN\")\n",
    "\n",
    "# Test if the token is loaded\n",
    "if github_token:\n",
    "    print(\"GitHub Token loaded successfully!\")\n",
    "else:\n",
    "    print(\"Failed to load GitHub Token. Check your .env file.\")"
   ]
  },
  {
   "cell_type": "code",
   "execution_count": 17,
   "id": "3a91842d-8b19-4a1c-aa2f-9600443be980",
   "metadata": {},
   "outputs": [
    {
     "name": "stdout",
     "output_type": "stream",
     "text": [
      "GitHub API Token Set Successfully！\n",
      "{'login': 'sydneyci11', 'id': 114530581, 'node_id': 'U_kgDOBtOZFQ', 'avatar_url': 'https://avatars.githubusercontent.com/u/114530581?v=4', 'gravatar_id': '', 'url': 'https://api.github.com/users/sydneyci11', 'html_url': 'https://github.com/sydneyci11', 'followers_url': 'https://api.github.com/users/sydneyci11/followers', 'following_url': 'https://api.github.com/users/sydneyci11/following{/other_user}', 'gists_url': 'https://api.github.com/users/sydneyci11/gists{/gist_id}', 'starred_url': 'https://api.github.com/users/sydneyci11/starred{/owner}{/repo}', 'subscriptions_url': 'https://api.github.com/users/sydneyci11/subscriptions', 'organizations_url': 'https://api.github.com/users/sydneyci11/orgs', 'repos_url': 'https://api.github.com/users/sydneyci11/repos', 'events_url': 'https://api.github.com/users/sydneyci11/events{/privacy}', 'received_events_url': 'https://api.github.com/users/sydneyci11/received_events', 'type': 'User', 'user_view_type': 'private', 'site_admin': False, 'name': 'Sydney Chien', 'company': None, 'blog': '', 'location': None, 'email': None, 'hireable': None, 'bio': 'MPS in Information Science @ Cornell | BSc in Computer Science @ King’s College London\\r\\n\\r\\nData Science | Machine Learning | Business Intelligence', 'twitter_username': None, 'notification_email': None, 'public_repos': 5, 'public_gists': 0, 'followers': 0, 'following': 0, 'created_at': '2022-09-27T20:46:31Z', 'updated_at': '2025-03-15T20:12:00Z', 'private_gists': 0, 'total_private_repos': 2, 'owned_private_repos': 2, 'disk_usage': 9743, 'collaborators': 0, 'two_factor_authentication': True, 'plan': {'name': 'pro', 'space': 976562499, 'collaborators': 0, 'private_repos': 9999}}\n"
     ]
    }
   ],
   "source": [
    "import requests\n",
    "\n",
    "headers = {\n",
    "    \"Authorization\": f\"token {os.environ['GITHUB_TOKEN']}\"\n",
    "}\n",
    "\n",
    "# Test GitHub API\n",
    "url = \"https://api.github.com/user\"\n",
    "response = requests.get(url, headers=headers)\n",
    "\n",
    "# Check if the API implemented successfully\n",
    "if response.status_code == 200:\n",
    "    print(\"GitHub API Token Set Successfully！\")\n",
    "    print(response.json())  # Show the user indfo\n",
    "else:\n",
    "    print(f\"Error: {response.status_code}, {response.text}\")"
   ]
  },
  {
   "cell_type": "markdown",
   "id": "c67b2911-17a8-4d37-87e1-ce733a1dfca1",
   "metadata": {},
   "source": [
    "### Drop and Recreate the Table (Force Schema Update)"
   ]
  },
  {
   "cell_type": "code",
   "execution_count": 36,
   "id": "745f6044-9406-4418-963c-61ead8df9e65",
   "metadata": {},
   "outputs": [
    {
     "name": "stdout",
     "output_type": "stream",
     "text": [
      "Database table reset and recreated.\n"
     ]
    }
   ],
   "source": [
    "# Force recreate the table if schema is outdated\n",
    "def reset_database():\n",
    "    conn = sqlite3.connect(local_db_path)\n",
    "    cursor = conn.cursor()\n",
    "    \n",
    "    # Drop the table if it exists\n",
    "    cursor.execute(\"DROP TABLE IF EXISTS github_trends;\")\n",
    "    \n",
    "    # Create the table with correct schema\n",
    "    cursor.execute(\"\"\"\n",
    "        CREATE TABLE github_trends (\n",
    "            id INTEGER PRIMARY KEY AUTOINCREMENT,\n",
    "            name TEXT,\n",
    "            full_name TEXT,\n",
    "            description TEXT,\n",
    "            stars INTEGER,\n",
    "            forks INTEGER,\n",
    "            language TEXT,\n",
    "            watchers INTEGER,\n",
    "            commits INTEGER,\n",
    "            issues INTEGER,\n",
    "            created_at TEXT,\n",
    "            updated_at TEXT,\n",
    "            url TEXT\n",
    "        )\n",
    "    \"\"\")\n",
    "    \n",
    "    conn.commit()\n",
    "    conn.close()\n",
    "    print(\"Database table reset and recreated.\")\n",
    "\n",
    "# Call this function ONCE before inserting data\n",
    "reset_database()\n"
   ]
  },
  {
   "cell_type": "markdown",
   "id": "3fefa763-ab0c-41e7-be11-dbd994ef4077",
   "metadata": {},
   "source": [
    "### Fetch Repository Data from GitHub API and Store to Database"
   ]
  },
  {
   "cell_type": "code",
   "execution_count": 37,
   "id": "3dc36e94-6808-4723-bdea-5f06c1f3847e",
   "metadata": {},
   "outputs": [
    {
     "name": "stdout",
     "output_type": "stream",
     "text": [
      "Database successfully created at: /Users/sydneyci11/Documents/github-trend-analysis/github_trends.db\n",
      "Successfully fetched 30 repositories!\n",
      "Data successfully saved to: /Users/sydneyci11/Documents/github-trend-analysis/github_trends.db\n"
     ]
    }
   ],
   "source": [
    "import requests\n",
    "import sqlite3\n",
    "import pandas as pd\n",
    "from dotenv import load_dotenv\n",
    "import os\n",
    "\n",
    "# Define the new database path (local storage)\n",
    "local_db_path = \"/Users/sydneyci11/Documents/github-trend-analysis/github_trends.db\"\n",
    "\n",
    "# Ensure the directory exists\n",
    "os.makedirs(os.path.dirname(local_db_path), exist_ok=True)\n",
    "\n",
    "# Create and connect to the database\n",
    "conn = sqlite3.connect(local_db_path)\n",
    "cursor = conn.cursor()\n",
    "\n",
    "# Create the table (if not exists)\n",
    "cursor.execute(\"\"\"\n",
    "    CREATE TABLE IF NOT EXISTS github_trends (\n",
    "        id INTEGER PRIMARY KEY AUTOINCREMENT,\n",
    "        name TEXT,\n",
    "        full_name TEXT,\n",
    "        description TEXT,\n",
    "        stars INTEGER,\n",
    "        forks INTEGER,\n",
    "        language TEXT,\n",
    "        watchers INTEGER,\n",
    "        commits INTEGER,\n",
    "        issues INTEGER,\n",
    "        created_at TEXT,\n",
    "        updated_at TEXT,\n",
    "        url TEXT\n",
    "    )\n",
    "\"\"\")\n",
    "conn.commit()\n",
    "conn.close()  # Close connection after creating table\n",
    "\n",
    "print(f\"Database successfully created at: {local_db_path}\")\n",
    "\n",
    "# Load API token from .env\n",
    "load_dotenv()\n",
    "GITHUB_TOKEN = os.getenv(\"GITHUB_TOKEN\")\n",
    "headers = {\"Authorization\": f\"token {GITHUB_TOKEN}\"}\n",
    "\n",
    "# Define GitHub search query\n",
    "query = \"machine learning\"\n",
    "url = f\"https://api.github.com/search/repositories?q={query}&sort=stars&order=desc\"\n",
    "\n",
    "# Fetch data from GitHub API\n",
    "response = requests.get(url, headers=headers)\n",
    "data = response.json()\n",
    "\n",
    "# Check response\n",
    "if response.status_code == 200:\n",
    "    print(f\"Successfully fetched {len(data['items'])} repositories!\")\n",
    "else:\n",
    "    print(f\"Error: {response.status_code}, {response.text}\")\n",
    "\n",
    "# Function to insert data into the local database\n",
    "def save_to_db(repo_data):\n",
    "    # Reopen database connection inside function\n",
    "    conn = sqlite3.connect(local_db_path)\n",
    "    cursor = conn.cursor()\n",
    "    \n",
    "    query = \"\"\"INSERT INTO github_trends (name, full_name, description, stars, forks, language, watchers, commits, issues, created_at, updated_at, url) \n",
    "               VALUES (?, ?, ?, ?, ?, ?, ?, ?, ?, ?, ?, ?)\"\"\"\n",
    "    \n",
    "    cursor.execute(query, repo_data)\n",
    "    conn.commit()\n",
    "    conn.close()  # Close connection after inserting\n",
    "\n",
    "# Store data into the local database\n",
    "for repo in data[\"items\"]:\n",
    "    # Use GitHub's built-in `open_issues_count` instead of separate API calls\n",
    "    issue_count = repo.get(\"open_issues_count\", 0)\n",
    "\n",
    "    # Fetch commit count using a separate API request (optional: comment this out if hitting rate limits)\n",
    "    commits_url = f\"https://api.github.com/repos/{repo['full_name']}/commits\"\n",
    "    commits_resp = requests.get(commits_url, headers=headers)\n",
    "    commit_count = len(commits_resp.json()) if commits_resp.status_code == 200 else 0\n",
    "    \n",
    "    repo_data = (\n",
    "        repo[\"name\"] or \"Unknown\",  # Replace None with \"Unknown\"\n",
    "        repo[\"full_name\"] or \"Unknown\",\n",
    "        repo[\"description\"] or \"No description available\",\n",
    "        repo[\"stargazers_count\"] or 0,\n",
    "        repo[\"forks_count\"] or 0,\n",
    "        repo[\"language\"] or \"Not specified\",\n",
    "        repo[\"watchers_count\"] or 0,\n",
    "        commit_count,\n",
    "        issue_count,\n",
    "        repo[\"created_at\"] or \"Unknown\",\n",
    "        repo[\"updated_at\"] or \"Unknown\",\n",
    "        repo[\"html_url\"] or \"No URL available\"\n",
    "    )\n",
    "    save_to_db(repo_data)\n",
    "\n",
    "print(f\"Data successfully saved to: {local_db_path}\")\n"
   ]
  },
  {
   "cell_type": "markdown",
   "id": "824ddd66-24df-48cc-b571-d6ff9a482d62",
   "metadata": {},
   "source": [
    "### Inspect Data"
   ]
  },
  {
   "cell_type": "code",
   "execution_count": 33,
   "id": "417a4a96-56a5-4361-939c-387bf6ee3a62",
   "metadata": {},
   "outputs": [
    {
     "data": {
      "text/html": [
       "<div>\n",
       "<style scoped>\n",
       "    .dataframe tbody tr th:only-of-type {\n",
       "        vertical-align: middle;\n",
       "    }\n",
       "\n",
       "    .dataframe tbody tr th {\n",
       "        vertical-align: top;\n",
       "    }\n",
       "\n",
       "    .dataframe thead th {\n",
       "        text-align: right;\n",
       "    }\n",
       "</style>\n",
       "<table border=\"1\" class=\"dataframe\">\n",
       "  <thead>\n",
       "    <tr style=\"text-align: right;\">\n",
       "      <th></th>\n",
       "      <th>id</th>\n",
       "      <th>name</th>\n",
       "      <th>full_name</th>\n",
       "      <th>description</th>\n",
       "      <th>stars</th>\n",
       "      <th>forks</th>\n",
       "      <th>language</th>\n",
       "      <th>watchers</th>\n",
       "      <th>commits</th>\n",
       "      <th>issues</th>\n",
       "      <th>created_at</th>\n",
       "      <th>updated_at</th>\n",
       "      <th>url</th>\n",
       "    </tr>\n",
       "  </thead>\n",
       "  <tbody>\n",
       "    <tr>\n",
       "      <th>0</th>\n",
       "      <td>1</td>\n",
       "      <td>tensorflow</td>\n",
       "      <td>tensorflow/tensorflow</td>\n",
       "      <td>An Open Source Machine Learning Framework for ...</td>\n",
       "      <td>188714</td>\n",
       "      <td>74615</td>\n",
       "      <td>C++</td>\n",
       "      <td>188714</td>\n",
       "      <td>30</td>\n",
       "      <td>7643</td>\n",
       "      <td>2015-11-07T01:19:20Z</td>\n",
       "      <td>2025-03-19T02:04:39Z</td>\n",
       "      <td>https://github.com/tensorflow/tensorflow</td>\n",
       "    </tr>\n",
       "    <tr>\n",
       "      <th>1</th>\n",
       "      <td>2</td>\n",
       "      <td>transformers</td>\n",
       "      <td>huggingface/transformers</td>\n",
       "      <td>🤗 Transformers: State-of-the-art Machine Learn...</td>\n",
       "      <td>141449</td>\n",
       "      <td>28324</td>\n",
       "      <td>Python</td>\n",
       "      <td>141449</td>\n",
       "      <td>30</td>\n",
       "      <td>1645</td>\n",
       "      <td>2018-10-29T13:56:00Z</td>\n",
       "      <td>2025-03-19T02:06:38Z</td>\n",
       "      <td>https://github.com/huggingface/transformers</td>\n",
       "    </tr>\n",
       "    <tr>\n",
       "      <th>2</th>\n",
       "      <td>3</td>\n",
       "      <td>funNLP</td>\n",
       "      <td>fighting41love/funNLP</td>\n",
       "      <td>中英文敏感词、语言检测、中外手机/电话归属地/运营商查询、名字推断性别、手机号抽取、身份证抽...</td>\n",
       "      <td>71752</td>\n",
       "      <td>14747</td>\n",
       "      <td>Python</td>\n",
       "      <td>71752</td>\n",
       "      <td>30</td>\n",
       "      <td>34</td>\n",
       "      <td>2018-08-21T11:20:39Z</td>\n",
       "      <td>2025-03-19T01:40:07Z</td>\n",
       "      <td>https://github.com/fighting41love/funNLP</td>\n",
       "    </tr>\n",
       "    <tr>\n",
       "      <th>3</th>\n",
       "      <td>4</td>\n",
       "      <td>ML-For-Beginners</td>\n",
       "      <td>microsoft/ML-For-Beginners</td>\n",
       "      <td>12 weeks, 26 lessons, 52 quizzes, classic Mach...</td>\n",
       "      <td>71469</td>\n",
       "      <td>15283</td>\n",
       "      <td>HTML</td>\n",
       "      <td>71469</td>\n",
       "      <td>30</td>\n",
       "      <td>5</td>\n",
       "      <td>2021-03-03T01:34:05Z</td>\n",
       "      <td>2025-03-19T01:58:43Z</td>\n",
       "      <td>https://github.com/microsoft/ML-For-Beginners</td>\n",
       "    </tr>\n",
       "    <tr>\n",
       "      <th>4</th>\n",
       "      <td>5</td>\n",
       "      <td>awesome-machine-learning</td>\n",
       "      <td>josephmisiti/awesome-machine-learning</td>\n",
       "      <td>A curated list of awesome Machine Learning fra...</td>\n",
       "      <td>67248</td>\n",
       "      <td>14812</td>\n",
       "      <td>Python</td>\n",
       "      <td>67248</td>\n",
       "      <td>30</td>\n",
       "      <td>3</td>\n",
       "      <td>2014-07-15T19:11:19Z</td>\n",
       "      <td>2025-03-19T00:09:18Z</td>\n",
       "      <td>https://github.com/josephmisiti/awesome-machin...</td>\n",
       "    </tr>\n",
       "    <tr>\n",
       "      <th>5</th>\n",
       "      <td>6</td>\n",
       "      <td>scikit-learn</td>\n",
       "      <td>scikit-learn/scikit-learn</td>\n",
       "      <td>scikit-learn: machine learning in Python</td>\n",
       "      <td>61460</td>\n",
       "      <td>25692</td>\n",
       "      <td>Python</td>\n",
       "      <td>61460</td>\n",
       "      <td>30</td>\n",
       "      <td>2156</td>\n",
       "      <td>2010-08-17T09:43:38Z</td>\n",
       "      <td>2025-03-19T01:56:35Z</td>\n",
       "      <td>https://github.com/scikit-learn/scikit-learn</td>\n",
       "    </tr>\n",
       "    <tr>\n",
       "      <th>6</th>\n",
       "      <td>7</td>\n",
       "      <td>gradio</td>\n",
       "      <td>gradio-app/gradio</td>\n",
       "      <td>Build and share delightful machine learning ap...</td>\n",
       "      <td>36910</td>\n",
       "      <td>2802</td>\n",
       "      <td>Python</td>\n",
       "      <td>36910</td>\n",
       "      <td>30</td>\n",
       "      <td>472</td>\n",
       "      <td>2018-12-19T08:24:04Z</td>\n",
       "      <td>2025-03-19T02:02:59Z</td>\n",
       "      <td>https://github.com/gradio-app/gradio</td>\n",
       "    </tr>\n",
       "    <tr>\n",
       "      <th>7</th>\n",
       "      <td>8</td>\n",
       "      <td>C-Plus-Plus</td>\n",
       "      <td>TheAlgorithms/C-Plus-Plus</td>\n",
       "      <td>Collection of various algorithms in mathematic...</td>\n",
       "      <td>31452</td>\n",
       "      <td>7330</td>\n",
       "      <td>C++</td>\n",
       "      <td>31452</td>\n",
       "      <td>30</td>\n",
       "      <td>25</td>\n",
       "      <td>2016-07-16T10:19:45Z</td>\n",
       "      <td>2025-03-19T01:08:23Z</td>\n",
       "      <td>https://github.com/TheAlgorithms/C-Plus-Plus</td>\n",
       "    </tr>\n",
       "    <tr>\n",
       "      <th>8</th>\n",
       "      <td>9</td>\n",
       "      <td>netron</td>\n",
       "      <td>lutzroeder/netron</td>\n",
       "      <td>Visualizer for neural network, deep learning a...</td>\n",
       "      <td>29667</td>\n",
       "      <td>2862</td>\n",
       "      <td>JavaScript</td>\n",
       "      <td>29667</td>\n",
       "      <td>30</td>\n",
       "      <td>23</td>\n",
       "      <td>2010-12-26T12:53:43Z</td>\n",
       "      <td>2025-03-19T01:57:21Z</td>\n",
       "      <td>https://github.com/lutzroeder/netron</td>\n",
       "    </tr>\n",
       "    <tr>\n",
       "      <th>9</th>\n",
       "      <td>10</td>\n",
       "      <td>linkedin-skill-assessments-quizzes</td>\n",
       "      <td>Ebazhanov/linkedin-skill-assessments-quizzes</td>\n",
       "      <td>Full reference of LinkedIn answers 2024 for sk...</td>\n",
       "      <td>28601</td>\n",
       "      <td>13251</td>\n",
       "      <td>None</td>\n",
       "      <td>28601</td>\n",
       "      <td>30</td>\n",
       "      <td>84</td>\n",
       "      <td>2019-07-13T19:52:56Z</td>\n",
       "      <td>2025-03-18T15:48:44Z</td>\n",
       "      <td>https://github.com/Ebazhanov/linkedin-skill-as...</td>\n",
       "    </tr>\n",
       "  </tbody>\n",
       "</table>\n",
       "</div>"
      ],
      "text/plain": [
       "   id                                name  \\\n",
       "0   1                          tensorflow   \n",
       "1   2                        transformers   \n",
       "2   3                              funNLP   \n",
       "3   4                    ML-For-Beginners   \n",
       "4   5            awesome-machine-learning   \n",
       "5   6                        scikit-learn   \n",
       "6   7                              gradio   \n",
       "7   8                         C-Plus-Plus   \n",
       "8   9                              netron   \n",
       "9  10  linkedin-skill-assessments-quizzes   \n",
       "\n",
       "                                      full_name  \\\n",
       "0                         tensorflow/tensorflow   \n",
       "1                      huggingface/transformers   \n",
       "2                         fighting41love/funNLP   \n",
       "3                    microsoft/ML-For-Beginners   \n",
       "4         josephmisiti/awesome-machine-learning   \n",
       "5                     scikit-learn/scikit-learn   \n",
       "6                             gradio-app/gradio   \n",
       "7                     TheAlgorithms/C-Plus-Plus   \n",
       "8                             lutzroeder/netron   \n",
       "9  Ebazhanov/linkedin-skill-assessments-quizzes   \n",
       "\n",
       "                                         description   stars  forks  \\\n",
       "0  An Open Source Machine Learning Framework for ...  188714  74615   \n",
       "1  🤗 Transformers: State-of-the-art Machine Learn...  141449  28324   \n",
       "2  中英文敏感词、语言检测、中外手机/电话归属地/运营商查询、名字推断性别、手机号抽取、身份证抽...   71752  14747   \n",
       "3  12 weeks, 26 lessons, 52 quizzes, classic Mach...   71469  15283   \n",
       "4  A curated list of awesome Machine Learning fra...   67248  14812   \n",
       "5           scikit-learn: machine learning in Python   61460  25692   \n",
       "6  Build and share delightful machine learning ap...   36910   2802   \n",
       "7  Collection of various algorithms in mathematic...   31452   7330   \n",
       "8  Visualizer for neural network, deep learning a...   29667   2862   \n",
       "9  Full reference of LinkedIn answers 2024 for sk...   28601  13251   \n",
       "\n",
       "     language  watchers  commits  issues            created_at  \\\n",
       "0         C++    188714       30    7643  2015-11-07T01:19:20Z   \n",
       "1      Python    141449       30    1645  2018-10-29T13:56:00Z   \n",
       "2      Python     71752       30      34  2018-08-21T11:20:39Z   \n",
       "3        HTML     71469       30       5  2021-03-03T01:34:05Z   \n",
       "4      Python     67248       30       3  2014-07-15T19:11:19Z   \n",
       "5      Python     61460       30    2156  2010-08-17T09:43:38Z   \n",
       "6      Python     36910       30     472  2018-12-19T08:24:04Z   \n",
       "7         C++     31452       30      25  2016-07-16T10:19:45Z   \n",
       "8  JavaScript     29667       30      23  2010-12-26T12:53:43Z   \n",
       "9        None     28601       30      84  2019-07-13T19:52:56Z   \n",
       "\n",
       "             updated_at                                                url  \n",
       "0  2025-03-19T02:04:39Z           https://github.com/tensorflow/tensorflow  \n",
       "1  2025-03-19T02:06:38Z        https://github.com/huggingface/transformers  \n",
       "2  2025-03-19T01:40:07Z           https://github.com/fighting41love/funNLP  \n",
       "3  2025-03-19T01:58:43Z      https://github.com/microsoft/ML-For-Beginners  \n",
       "4  2025-03-19T00:09:18Z  https://github.com/josephmisiti/awesome-machin...  \n",
       "5  2025-03-19T01:56:35Z       https://github.com/scikit-learn/scikit-learn  \n",
       "6  2025-03-19T02:02:59Z               https://github.com/gradio-app/gradio  \n",
       "7  2025-03-19T01:08:23Z       https://github.com/TheAlgorithms/C-Plus-Plus  \n",
       "8  2025-03-19T01:57:21Z               https://github.com/lutzroeder/netron  \n",
       "9  2025-03-18T15:48:44Z  https://github.com/Ebazhanov/linkedin-skill-as...  "
      ]
     },
     "execution_count": 33,
     "metadata": {},
     "output_type": "execute_result"
    }
   ],
   "source": [
    "import sqlite3\n",
    "import pandas as pd\n",
    "\n",
    "# Connect to the local database\n",
    "conn = sqlite3.connect(\"/Users/sydneyci11/Documents/github-trend-analysis/github_trends.db\")\n",
    "\n",
    "# Read some data\n",
    "df = pd.read_sql(\"SELECT * FROM github_trends LIMIT 10;\", conn)\n",
    "conn.close()\n",
    "\n",
    "df  # Display the first few rows"
   ]
  },
  {
   "cell_type": "markdown",
   "id": "a8b06879-aeb2-44ee-b9bd-fe149cb54173",
   "metadata": {},
   "source": [
    "### Identify Where None Values Appear"
   ]
  },
  {
   "cell_type": "code",
   "execution_count": 38,
   "id": "20bb4990-bd99-4fce-9c9a-a84f8d91bbae",
   "metadata": {},
   "outputs": [
    {
     "name": "stdout",
     "output_type": "stream",
     "text": [
      "No NULL values found in the database.\n"
     ]
    }
   ],
   "source": [
    "# Connect to the database\n",
    "conn = sqlite3.connect(\"/Users/sydneyci11/Documents/github-trend-analysis/github_trends.db\")\n",
    "\n",
    "# Query for NULL values\n",
    "df = pd.read_sql(\"SELECT * FROM github_trends WHERE description IS NULL OR language IS NULL;\", conn)\n",
    "conn.close()\n",
    "\n",
    "# Display DataFrame in Jupyter Notebook\n",
    "if df.empty:\n",
    "    print(\"No NULL values found in the database.\")\n",
    "else:\n",
    "    print(\"Repositories with NULL values:\")\n",
    "    print(df.to_string())  # Displays the entire DataFrame in text format"
   ]
  },
  {
   "cell_type": "markdown",
   "id": "517b1d2b-7bb5-4f01-a4ec-8f65f25d595a",
   "metadata": {},
   "source": [
    "### Visualize GitHub Trends (Data Insights)"
   ]
  },
  {
   "cell_type": "code",
   "execution_count": 39,
   "id": "986a2bc2-fe71-4934-901f-47db848255b2",
   "metadata": {},
   "outputs": [
    {
     "data": {
      "image/png": "[encoded data removed]",
      "text/plain": [
       "<Figure size 1000x500 with 1 Axes>"
      ]
     },
     "metadata": {},
     "output_type": "display_data"
    }
   ],
   "source": [
    "import matplotlib.pyplot as plt\n",
    "\n",
    "# Connect to the database\n",
    "conn = sqlite3.connect(\"/Users/sydneyci11/Documents/github-trend-analysis/github_trends.db\")\n",
    "\n",
    "# Query to count repositories per language\n",
    "df_lang = pd.read_sql(\"SELECT language, COUNT(*) as count FROM github_trends GROUP BY language ORDER BY count DESC LIMIT 10;\", conn)\n",
    "conn.close()\n",
    "\n",
    "# Plot bar chart\n",
    "plt.figure(figsize=(10, 5))\n",
    "plt.barh(df_lang[\"language\"], df_lang[\"count\"], color=\"skyblue\")\n",
    "plt.xlabel(\"Number of Repositories\")\n",
    "plt.ylabel(\"Programming Language\")\n",
    "plt.title(\"Top 10 Programming Languages in GitHub Repositories\")\n",
    "plt.gca().invert_yaxis()  # Invert y-axis to show top language first\n",
    "plt.show()"
   ]
  },
  {
   "cell_type": "code",
   "execution_count": null,
   "id": "3d4fdafc-308c-4cb0-a21d-a789316e0479",
   "metadata": {},
   "outputs": [],
   "source": []
  }
 ],
 "metadata": {
  "kernelspec": {
   "display_name": "Python (github-trend-env)",
   "language": "python",
   "name": "github-trend-env"
  },
  "language_info": {
   "codemirror_mode": {
    "name": "ipython",
    "version": 3
   },
   "file_extension": ".py",
   "mimetype": "text/x-python",
   "name": "python",
   "nbconvert_exporter": "python",
   "pygments_lexer": "ipython3",
   "version": "3.11.11"
  }
 },
 "nbformat": 4,
 "nbformat_minor": 5
}
